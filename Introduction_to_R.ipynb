{
 "cells": [
  {
   "cell_type": "markdown",
   "metadata": {},
   "source": [
    "# Introduction to R for amplicon analysis"
   ]
  },
  {
   "cell_type": "markdown",
   "metadata": {},
   "source": [
    "**R** is a free software environment for statistical computing and graphics. It compiles and runs on a wide variety of UNIX platforms, Windows and MacOS.\n",
    "\n",
    "A cheat sheet pdf can be found here:\n",
    "\n",
    "https://cran.r-project.org/doc/contrib/Short-refcard.pdf\n",
    "\n",
    "\n",
    "Popular alternatives to run bioninformatics pipelines are:\n",
    "\n",
    "* Python\n",
    "* Bash\n",
    "* Perl\n",
    "* Java\n",
    "\n"
   ]
  },
  {
   "cell_type": "markdown",
   "metadata": {},
   "source": [
    "### Integrated Development Environment (IDE)\n",
    "In this workshop all the code will be run using RStudio. However, R scripts can be run using the R console, R Noterbooks, Jupyter Notebooks or other IDEs."
   ]
  },
  {
   "cell_type": "markdown",
   "metadata": {},
   "source": [
    "## The basics\n",
    "\n",
    "In this section wil will learn the basics of R.\n"
   ]
  },
  {
   "cell_type": "markdown",
   "metadata": {},
   "source": [
    "### Assignment Operators\n",
    "Assign a value to a variable. The operators <- and = assign into the environment in which they are evaluated. Consider these two equivalent:"
   ]
  },
  {
   "cell_type": "code",
   "execution_count": 100,
   "metadata": {},
   "outputs": [
    {
     "name": "stdout",
     "output_type": "stream",
     "text": [
      "[1] 3\n",
      "[1] 3\n"
     ]
    }
   ],
   "source": [
    "a = 3\n",
    "print(a)\n",
    "b <- 3\n",
    "print(b)"
   ]
  },
  {
   "cell_type": "markdown",
   "metadata": {},
   "source": [
    "### Data types\n",
    "All the variables have a specified data type, some of them are:\n",
    "\n",
    "* Numeric\n",
    "* Integer\n",
    "* Logical\n",
    "* Character\n",
    "* Vectors\n",
    "* Matrices\n",
    "\n",
    "The function class() will help us to identify the type assigned"
   ]
  },
  {
   "cell_type": "code",
   "execution_count": 101,
   "metadata": {},
   "outputs": [],
   "source": [
    "v <- 3.5  # numeric\n",
    "v <- 3L   # integer\n",
    "v <- TRUE # logical\n",
    "v <- \"Hi\" # Character"
   ]
  },
  {
   "cell_type": "code",
   "execution_count": 102,
   "metadata": {},
   "outputs": [
    {
     "name": "stdout",
     "output_type": "stream",
     "text": [
      "[1] \"Hi\"\n",
      "[1] \"character\"\n"
     ]
    }
   ],
   "source": [
    "print(v)\n",
    "print(class(v))"
   ]
  },
  {
   "cell_type": "markdown",
   "metadata": {},
   "source": [
    "### Vectors\n",
    "One dimensional array"
   ]
  },
  {
   "cell_type": "code",
   "execution_count": 103,
   "metadata": {},
   "outputs": [],
   "source": [
    "v <- c(3,4,5,6)                          #numeric vector\n",
    "v <- c(\"one\",\"two\",\"three\")              #character vector\n",
    "v <- c(TRUE,TRUE,TRUE,FALSE,TRUE,FALSE)  #logical vector"
   ]
  },
  {
   "cell_type": "markdown",
   "metadata": {},
   "source": [
    "Manipulate vectors"
   ]
  },
  {
   "cell_type": "code",
   "execution_count": 104,
   "metadata": {},
   "outputs": [
    {
     "name": "stdout",
     "output_type": "stream",
     "text": [
      "[1] \"one\"\n",
      "[1] \"one\" \"two\"\n"
     ]
    }
   ],
   "source": [
    "v <- c(\"one\",\"two\",\"three\") \n",
    "print(v[1])                               # Printing the first element of the vector\n",
    "print(v[1:2])                             # Printing elements from 1 to 2"
   ]
  },
  {
   "cell_type": "markdown",
   "metadata": {},
   "source": [
    "### Matrices\n",
    "Two dimensional array"
   ]
  },
  {
   "cell_type": "code",
   "execution_count": 105,
   "metadata": {},
   "outputs": [
    {
     "name": "stdout",
     "output_type": "stream",
     "text": [
      "     [,1] [,2] [,3] [,4]\n",
      "[1,]    1    6   11   16\n",
      "[2,]    2    7   12   17\n",
      "[3,]    3    8   13   18\n",
      "[4,]    4    9   14   19\n",
      "[5,]    5   10   15   20\n"
     ]
    }
   ],
   "source": [
    "M <- matrix(1:20, nrow=5,ncol=4)\n",
    "print(M)"
   ]
  },
  {
   "cell_type": "code",
   "execution_count": 106,
   "metadata": {},
   "outputs": [
    {
     "data": {
      "text/html": [
       "<table>\n",
       "<tbody>\n",
       "\t<tr><td>1</td><td>6</td></tr>\n",
       "\t<tr><td>2</td><td>7</td></tr>\n",
       "\t<tr><td>3</td><td>8</td></tr>\n",
       "</tbody>\n",
       "</table>\n"
      ],
      "text/latex": [
       "\\begin{tabular}{ll}\n",
       "\t 1 & 6\\\\\n",
       "\t 2 & 7\\\\\n",
       "\t 3 & 8\\\\\n",
       "\\end{tabular}\n"
      ],
      "text/markdown": [
       "\n",
       "| 1 | 6 |\n",
       "| 2 | 7 |\n",
       "| 3 | 8 |\n",
       "\n"
      ],
      "text/plain": [
       "     [,1] [,2]\n",
       "[1,] 1    6   \n",
       "[2,] 2    7   \n",
       "[3,] 3    8   "
      ]
     },
     "metadata": {},
     "output_type": "display_data"
    },
    {
     "data": {
      "text/html": [
       "<ol class=list-inline>\n",
       "\t<li>16</li>\n",
       "\t<li>17</li>\n",
       "\t<li>18</li>\n",
       "\t<li>19</li>\n",
       "\t<li>20</li>\n",
       "</ol>\n"
      ],
      "text/latex": [
       "\\begin{enumerate*}\n",
       "\\item 16\n",
       "\\item 17\n",
       "\\item 18\n",
       "\\item 19\n",
       "\\item 20\n",
       "\\end{enumerate*}\n"
      ],
      "text/markdown": [
       "1. 16\n",
       "2. 17\n",
       "3. 18\n",
       "4. 19\n",
       "5. 20\n",
       "\n",
       "\n"
      ],
      "text/plain": [
       "[1] 16 17 18 19 20"
      ]
     },
     "metadata": {},
     "output_type": "display_data"
    },
    {
     "data": {
      "text/html": [
       "<ol class=list-inline>\n",
       "\t<li>3</li>\n",
       "\t<li>8</li>\n",
       "\t<li>13</li>\n",
       "\t<li>18</li>\n",
       "</ol>\n"
      ],
      "text/latex": [
       "\\begin{enumerate*}\n",
       "\\item 3\n",
       "\\item 8\n",
       "\\item 13\n",
       "\\item 18\n",
       "\\end{enumerate*}\n"
      ],
      "text/markdown": [
       "1. 3\n",
       "2. 8\n",
       "3. 13\n",
       "4. 18\n",
       "\n",
       "\n"
      ],
      "text/plain": [
       "[1]  3  8 13 18"
      ]
     },
     "metadata": {},
     "output_type": "display_data"
    }
   ],
   "source": [
    "M[1:3,1:2]       # Matrix subset\n",
    "M[,4]            # 4th column of matrix\n",
    "M[3,]            # 3rd row of matrix"
   ]
  },
  {
   "cell_type": "markdown",
   "metadata": {},
   "source": [
    "### Loops\n",
    "A loop describes the process of repeating the same instructions or processes the same information over and over until receiving the order to stop. Two useful type of loops are: for and while."
   ]
  },
  {
   "cell_type": "code",
   "execution_count": 107,
   "metadata": {},
   "outputs": [
    {
     "name": "stdout",
     "output_type": "stream",
     "text": [
      "[1] \"c is still less than 3, c= 1\"\n",
      "[1] \"c is still less than 3, c= 2\"\n"
     ]
    }
   ],
   "source": [
    "c <- 1\n",
    "while (c < 3){\n",
    "    print(paste(\"c is still less than 3, c=\",c))\n",
    "    c <- c + 1\n",
    "}"
   ]
  },
  {
   "cell_type": "code",
   "execution_count": 108,
   "metadata": {},
   "outputs": [
    {
     "name": "stdout",
     "output_type": "stream",
     "text": [
      "[1] \"c= 1\"\n",
      "[1] \"c= 2\"\n",
      "[1] \"c= 3\"\n",
      "[1] \"c= 4\"\n",
      "[1] \"c= 5\"\n"
     ]
    }
   ],
   "source": [
    "for (c in 1:5) {\n",
    "    print(paste(\"c=\",c))\n",
    "}"
   ]
  },
  {
   "cell_type": "markdown",
   "metadata": {},
   "source": [
    "### Conditional Statements"
   ]
  },
  {
   "cell_type": "code",
   "execution_count": 109,
   "metadata": {},
   "outputs": [
    {
     "name": "stdout",
     "output_type": "stream",
     "text": [
      "[1] \"Selamat petang\"\n"
     ]
    }
   ],
   "source": [
    "hour <- as.numeric(format(Sys.time(), \"%H\"))\n",
    "\n",
    "if (hour < 12) {\n",
    "    print(\"Selamat Pagi\")\n",
    "} else if (hour < 15){\n",
    "    print(\"Selamat tengah hari\")\n",
    "} else if (hour < 22 ){\n",
    "   print(\"Selamat petang\")\n",
    "} else {\n",
    "     print(\"Selamat malam\")\n",
    "}"
   ]
  },
  {
   "cell_type": "markdown",
   "metadata": {},
   "source": [
    "### Functions\n",
    "A function is a block of organized, reusable code that is used to perform a single, related action. A typical function in R will have:\n",
    "\n",
    "* Name\n",
    "* Parameters\n",
    "* Local Variable declarations (Optional)\n",
    "* Statements\n",
    "* Return Statement (Optional)\n",
    "\n",
    "Example: function to calculate the Euclidean distance between two points"
   ]
  },
  {
   "cell_type": "code",
   "execution_count": 110,
   "metadata": {},
   "outputs": [],
   "source": [
    "euc_distance <- function(a,b){\n",
    "    d <- sqrt( (a[1]-b[1])^2 + (a[2]-b[2])^2 )\n",
    "    return(d)\n",
    "}"
   ]
  },
  {
   "cell_type": "code",
   "execution_count": 111,
   "metadata": {},
   "outputs": [
    {
     "data": {
      "text/html": [
       "1.4142135623731"
      ],
      "text/latex": [
       "1.4142135623731"
      ],
      "text/markdown": [
       "1.4142135623731"
      ],
      "text/plain": [
       "[1] 1.414214"
      ]
     },
     "metadata": {},
     "output_type": "display_data"
    }
   ],
   "source": [
    "D <- euc_distance(c(1,1),c(2,2)) # D <- euc_distance(a=c(1,1),b=c(2,2))\n",
    "D"
   ]
  },
  {
   "cell_type": "markdown",
   "metadata": {},
   "source": [
    "## Setting up the environment"
   ]
  },
  {
   "cell_type": "code",
   "execution_count": 112,
   "metadata": {},
   "outputs": [
    {
     "name": "stderr",
     "output_type": "stream",
     "text": [
      "Warning message:\n",
      "\"package 'ggplot2' is in use and will not be installed\""
     ]
    }
   ],
   "source": [
    "# Install new packages\n",
    "install.packages(\"ggplot2\", update = TRUE, ask=FALSE) "
   ]
  },
  {
   "cell_type": "code",
   "execution_count": 113,
   "metadata": {},
   "outputs": [],
   "source": [
    "# Load the library\n",
    "library(ggplot2)"
   ]
  },
  {
   "cell_type": "code",
   "execution_count": 114,
   "metadata": {},
   "outputs": [
    {
     "data": {
      "text/html": [
       "'C:/Users/SA04PA/Documents/repos/github/bioinformatics-workshop-2020'"
      ],
      "text/latex": [
       "'C:/Users/SA04PA/Documents/repos/github/bioinformatics-workshop-2020'"
      ],
      "text/markdown": [
       "'C:/Users/SA04PA/Documents/repos/github/bioinformatics-workshop-2020'"
      ],
      "text/plain": [
       "[1] \"C:/Users/SA04PA/Documents/repos/github/bioinformatics-workshop-2020\""
      ]
     },
     "metadata": {},
     "output_type": "display_data"
    }
   ],
   "source": [
    "# Setting the working directory to the currect directory\n",
    "setwd <-  getwd()\n",
    "setwd"
   ]
  },
  {
   "cell_type": "markdown",
   "metadata": {},
   "source": [
    "## Executing an R script\n",
    "A script can be executed directly from the R console. Just remember to use the \"/\" or \"\\\\\" symbol to specify the path of your file:"
   ]
  },
  {
   "cell_type": "code",
   "execution_count": 115,
   "metadata": {},
   "outputs": [
    {
     "name": "stdout",
     "output_type": "stream",
     "text": [
      "[1] \"Selamat siang!\"\n",
      "[1] \"Welcome to our Introduction to R session\"\n",
      "[1] \"Selamat siang!\"\n",
      "[1] \"Welcome to our Introduction to R session\"\n"
     ]
    }
   ],
   "source": [
    "source(\"C:/Users/SA04PA/Documents/repos/github/bioinformatics-workshop-2020/script_example.R\")\n",
    "source(\"C:\\\\Users\\\\SA04PA\\\\Documents\\\\repos/github/bioinformatics-workshop-2020/script_example.R\")"
   ]
  },
  {
   "cell_type": "markdown",
   "metadata": {},
   "source": [
    "# Data Analysis using R\n",
    "Data analysis is a process of inspecting, cleansing, transforming and modeling data with the goal of discovering useful information, informing conclusion and supporting decision-making."
   ]
  },
  {
   "cell_type": "markdown",
   "metadata": {},
   "source": [
    "## Data frames\n",
    "Data frame is a two dimensional data structure. A data frame accepts different data types (numeric, character, logical, etc.)"
   ]
  },
  {
   "cell_type": "code",
   "execution_count": 116,
   "metadata": {},
   "outputs": [
    {
     "data": {
      "text/html": [
       "<table>\n",
       "<thead><tr><th scope=col>number</th><th scope=col>name</th><th scope=col>pair</th></tr></thead>\n",
       "<tbody>\n",
       "\t<tr><td>2    </td><td>dos  </td><td> TRUE</td></tr>\n",
       "\t<tr><td>3    </td><td>tres </td><td>FALSE</td></tr>\n",
       "\t<tr><td>5    </td><td>cinco</td><td>FALSE</td></tr>\n",
       "</tbody>\n",
       "</table>\n"
      ],
      "text/latex": [
       "\\begin{tabular}{r|lll}\n",
       " number & name & pair\\\\\n",
       "\\hline\n",
       "\t 2     & dos   &  TRUE\\\\\n",
       "\t 3     & tres  & FALSE\\\\\n",
       "\t 5     & cinco & FALSE\\\\\n",
       "\\end{tabular}\n"
      ],
      "text/markdown": [
       "\n",
       "| number | name | pair |\n",
       "|---|---|---|\n",
       "| 2     | dos   |  TRUE |\n",
       "| 3     | tres  | FALSE |\n",
       "| 5     | cinco | FALSE |\n",
       "\n"
      ],
      "text/plain": [
       "  number name  pair \n",
       "1 2      dos    TRUE\n",
       "2 3      tres  FALSE\n",
       "3 5      cinco FALSE"
      ]
     },
     "metadata": {},
     "output_type": "display_data"
    }
   ],
   "source": [
    "number = c(2, 3, 5) \n",
    "name = c(\"dos\", \"tres\", \"cinco\") \n",
    "pair = c(TRUE, FALSE, FALSE) \n",
    "df = data.frame(number, name, pair)       # df is a data frame\n",
    "df"
   ]
  },
  {
   "cell_type": "markdown",
   "metadata": {},
   "source": [
    "The ggplots2 library provides some sample data frames to create plots, like mpg:"
   ]
  },
  {
   "cell_type": "code",
   "execution_count": 117,
   "metadata": {},
   "outputs": [
    {
     "data": {
      "text/html": [
       "<table>\n",
       "<thead><tr><th scope=col>manufacturer</th><th scope=col>model</th><th scope=col>displ</th><th scope=col>year</th><th scope=col>cyl</th><th scope=col>trans</th><th scope=col>drv</th><th scope=col>cty</th><th scope=col>hwy</th><th scope=col>fl</th><th scope=col>class</th></tr></thead>\n",
       "<tbody>\n",
       "\t<tr><td>audi      </td><td>a4        </td><td>1.8       </td><td>1999      </td><td>4         </td><td>auto(l5)  </td><td>f         </td><td>18        </td><td>29        </td><td>p         </td><td>compact   </td></tr>\n",
       "\t<tr><td>audi      </td><td>a4        </td><td>1.8       </td><td>1999      </td><td>4         </td><td>manual(m5)</td><td>f         </td><td>21        </td><td>29        </td><td>p         </td><td>compact   </td></tr>\n",
       "\t<tr><td>audi      </td><td>a4        </td><td>2.0       </td><td>2008      </td><td>4         </td><td>manual(m6)</td><td>f         </td><td>20        </td><td>31        </td><td>p         </td><td>compact   </td></tr>\n",
       "\t<tr><td>audi      </td><td>a4        </td><td>2.0       </td><td>2008      </td><td>4         </td><td>auto(av)  </td><td>f         </td><td>21        </td><td>30        </td><td>p         </td><td>compact   </td></tr>\n",
       "</tbody>\n",
       "</table>\n"
      ],
      "text/latex": [
       "\\begin{tabular}{r|lllllllllll}\n",
       " manufacturer & model & displ & year & cyl & trans & drv & cty & hwy & fl & class\\\\\n",
       "\\hline\n",
       "\t audi       & a4         & 1.8        & 1999       & 4          & auto(l5)   & f          & 18         & 29         & p          & compact   \\\\\n",
       "\t audi       & a4         & 1.8        & 1999       & 4          & manual(m5) & f          & 21         & 29         & p          & compact   \\\\\n",
       "\t audi       & a4         & 2.0        & 2008       & 4          & manual(m6) & f          & 20         & 31         & p          & compact   \\\\\n",
       "\t audi       & a4         & 2.0        & 2008       & 4          & auto(av)   & f          & 21         & 30         & p          & compact   \\\\\n",
       "\\end{tabular}\n"
      ],
      "text/markdown": [
       "\n",
       "| manufacturer | model | displ | year | cyl | trans | drv | cty | hwy | fl | class |\n",
       "|---|---|---|---|---|---|---|---|---|---|---|\n",
       "| audi       | a4         | 1.8        | 1999       | 4          | auto(l5)   | f          | 18         | 29         | p          | compact    |\n",
       "| audi       | a4         | 1.8        | 1999       | 4          | manual(m5) | f          | 21         | 29         | p          | compact    |\n",
       "| audi       | a4         | 2.0        | 2008       | 4          | manual(m6) | f          | 20         | 31         | p          | compact    |\n",
       "| audi       | a4         | 2.0        | 2008       | 4          | auto(av)   | f          | 21         | 30         | p          | compact    |\n",
       "\n"
      ],
      "text/plain": [
       "  manufacturer model displ year cyl trans      drv cty hwy fl class  \n",
       "1 audi         a4    1.8   1999 4   auto(l5)   f   18  29  p  compact\n",
       "2 audi         a4    1.8   1999 4   manual(m5) f   21  29  p  compact\n",
       "3 audi         a4    2.0   2008 4   manual(m6) f   20  31  p  compact\n",
       "4 audi         a4    2.0   2008 4   auto(av)   f   21  30  p  compact"
      ]
     },
     "metadata": {},
     "output_type": "display_data"
    }
   ],
   "source": [
    "head(mpg,4) # List the first 4 rows of the mpg data frame"
   ]
  },
  {
   "cell_type": "code",
   "execution_count": 118,
   "metadata": {},
   "outputs": [
    {
     "name": "stderr",
     "output_type": "stream",
     "text": [
      "`geom_smooth()` using method = 'loess' and formula 'y ~ x'\n"
     ]
    },
    {
     "data": {
      "image/png": "[encoded data removed]",
      "text/plain": [
       "plot without title"
      ]
     },
     "metadata": {},
     "output_type": "display_data"
    }
   ],
   "source": [
    "options(repr.plot.width=6, repr.plot.height=4)\n",
    "base <- ggplot(mpg, aes(displ, hwy)) + geom_point()\n",
    "base + geom_smooth()"
   ]
  }
 ],
 "metadata": {
  "kernelspec": {
   "display_name": "R",
   "language": "R",
   "name": "ir"
  },
  "language_info": {
   "codemirror_mode": "r",
   "file_extension": ".r",
   "mimetype": "text/x-r-source",
   "name": "R",
   "pygments_lexer": "r",
   "version": "3.6.1"
  }
 },
 "nbformat": 4,
 "nbformat_minor": 4
}
